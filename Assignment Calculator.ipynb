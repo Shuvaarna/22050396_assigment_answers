{
 "cells": [
  {
   "cell_type": "code",
   "execution_count": 10,
   "id": "b11376e6",
   "metadata": {},
   "outputs": [
    {
     "name": "stdout",
     "output_type": "stream",
     "text": [
      "Enter first number20\n",
      "Enter second number5\n",
      "Enter operator:-\n",
      "Answer: 15\n"
     ]
    }
   ],
   "source": [
    "def simple_calculator():\n",
    "\n",
    "    while True:\n",
    "        try:\n",
    "            num1= int(input(\"Enter first number\"))\n",
    "            num2= int(input(\"Enter second number\"))\n",
    "        except ValueError:\n",
    "            print(\"Invalid input, please try again\")\n",
    "            continue\n",
    "    \n",
    "        try:\n",
    "            operator = input(\"Enter operator:\")\n",
    "            if operator == \"+\":\n",
    "                print(\"Answer: \"+ str(num1 +num2))\n",
    "            elif operator == \"-\":\n",
    "                print(\"Answer: \"+ str(num1 - num2))\n",
    "            elif operator == \"*\":\n",
    "                print(\"Answer: \"+ str(num1 * num2))\n",
    "            elif operator == \"/\":\n",
    "                print(\"Answer: \"+ str(num1 / num2))\n",
    "            else:\n",
    "                print(\"Invalid operator, please try again\")\n",
    "                continue\n",
    "            break \n",
    "        except ZeroDivisionError:\n",
    "            print(\"Cannot divide by zero, please try again\")\n",
    "            continue\n",
    "simple_calculator()     "
   ]
  },
  {
   "cell_type": "code",
   "execution_count": null,
   "id": "de694591",
   "metadata": {},
   "outputs": [],
   "source": []
  }
 ],
 "metadata": {
  "kernelspec": {
   "display_name": "Python 3 (ipykernel)",
   "language": "python",
   "name": "python3"
  },
  "language_info": {
   "codemirror_mode": {
    "name": "ipython",
    "version": 3
   },
   "file_extension": ".py",
   "mimetype": "text/x-python",
   "name": "python",
   "nbconvert_exporter": "python",
   "pygments_lexer": "ipython3",
   "version": "3.11.5"
  }
 },
 "nbformat": 4,
 "nbformat_minor": 5
}
