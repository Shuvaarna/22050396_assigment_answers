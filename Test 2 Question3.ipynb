{
 "cells": [
  {
   "cell_type": "code",
   "execution_count": 4,
   "id": "89be8852",
   "metadata": {},
   "outputs": [
    {
     "ename": "SyntaxError",
     "evalue": "invalid syntax (3114481726.py, line 13)",
     "output_type": "error",
     "traceback": [
      "\u001b[1;36m  Cell \u001b[1;32mIn[4], line 13\u001b[1;36m\u001b[0m\n\u001b[1;33m    base url : \"https://api.open-meteo.com/v1/forecast\"\u001b[0m\n\u001b[1;37m         ^\u001b[0m\n\u001b[1;31mSyntaxError\u001b[0m\u001b[1;31m:\u001b[0m invalid syntax\n"
     ]
    }
   ],
   "source": [
    "#Importing libraries\n",
    "import requests\n",
    "import matplotlib.pyplot as plt\n",
    "from datetime import datetime\n",
    "\n",
    "#State the parameters\n",
    "latitude = 2.735\n",
    "longitude = 112.5\n",
    "timeZone = 'Asia/Singapore'\n",
    "\n",
    "#State the function to get data temperature\n",
    "def get_temperature_data(days):\n",
    "    base url : \"https://api.open-meteo.com/v1/forecast\"\n",
    "        #Setting the paramaters\n",
    "        parameters = { \n",
    "        'latitude' : latitude,\n",
    "        'longitude' : longitude,\n",
    "        'hourly' : 'temperature_2m',\n",
    "        'timezone' : timeZone,\n",
    "        'forecast_days' : days\n",
    "        }\n",
    "        \n",
    "        response = requests.get(base_url,parameters=parameters)\n",
    "        response.raise_for_status()\n",
    "        data = response.json()\n",
    "        return data ['hourly']['time'], data['hourly']['temperature_2m']\n",
    "\n",
    "# Function to plot the temperature trend\n",
    "def plot_temperature_trend(times, temperatures, days):\n",
    "    plt.figure(figsize=(15, 7))\n",
    "    \n",
    "    # Convert all times to datetime objects and then to the hour of the day\n",
    "    times = [datetime.fromisoformat(t).strftime('%H:%M') for t in times]\n",
    "    hours = list(sorted(set(times)))\n",
    "\n",
    "    # Plot temperatures for each day as different line\n",
    "    for day in range(days):\n",
    "        day_temperatures = temperatures[day * 24:(day + 1) * 24]  # Becasue hourly data\n",
    "        plt.plot(hours, day_temperatures, label=f'Day {day+1}')\n",
    "    \n",
    "    plt.title(f'Hourly Temperature Trend for Latitude: {latitude} Longitude: {longitude} Days: {days}')\n",
    "    plt.xlabel('Time of Day')\n",
    "    plt.ylabel('Temperature (°C)')\n",
    "    plt.xticks(rotation=45)\n",
    "    plt.legend()\n",
    "    # Adding grid for clarity\n",
    "    plt.grid()\n",
    "    plt.tight_layout()\n",
    "    # Show the plot\n",
    "    plt.show()\n",
    "    \n",
    "#Main the function to run the script \n",
    "def main():\n",
    "    days = int(input(\"Enter the number of days for the forecast (1-16): \"))\n",
    "\n",
    "    #Checking the user input\n",
    "    if not 1 <= days <= 16:\n",
    "        print(\"The number of days must be between 1 and 16.\")\n",
    "        return main()\n",
    "    \n",
    "    #Getting the temperature data\n",
    "    times, temperature = get_temperature_data(days)\n",
    "    \n",
    "    #Plot the data\n",
    "    plot_temperature_trend(times,temperatures,days)\n",
    "    \n",
    "#Run the main function\n",
    "()main         \n",
    "                \n",
    "    \n",
    "        \n",
    "        "
   ]
  },
  {
   "cell_type": "code",
   "execution_count": null,
   "id": "19b355e2",
   "metadata": {},
   "outputs": [],
   "source": []
  }
 ],
 "metadata": {
  "kernelspec": {
   "display_name": "Python 3 (ipykernel)",
   "language": "python",
   "name": "python3"
  },
  "language_info": {
   "codemirror_mode": {
    "name": "ipython",
    "version": 3
   },
   "file_extension": ".py",
   "mimetype": "text/x-python",
   "name": "python",
   "nbconvert_exporter": "python",
   "pygments_lexer": "ipython3",
   "version": "3.11.5"
  }
 },
 "nbformat": 4,
 "nbformat_minor": 5
}
