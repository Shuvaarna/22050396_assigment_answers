{
 "cells": [
  {
   "cell_type": "markdown",
   "id": "c252811d",
   "metadata": {},
   "source": [
    "1.1 Importing Libraries"
   ]
  },
  {
   "cell_type": "code",
   "execution_count": 16,
   "id": "8972e3de",
   "metadata": {},
   "outputs": [],
   "source": [
    "import numpy as np\n",
    "from scipy import optimize"
   ]
  },
  {
   "cell_type": "markdown",
   "id": "2ca21435",
   "metadata": {},
   "source": [
    "1.2 Defining constants"
   ]
  },
  {
   "cell_type": "code",
   "execution_count": 17,
   "id": "f2d7e13a",
   "metadata": {},
   "outputs": [],
   "source": [
    "g = 9.81\n",
    "fi_s = 0.6  # sphericity\n",
    "rho_s = 2330  # particle density (kg/m^3)\n",
    "rho_g = 0.1355  # gas density (kg/m^3)\n",
    "mi_g = 2.6394E-5  # gas viscosity (kg/m·s)\n",
    "u_t_star = 0.5879"
   ]
  },
  {
   "cell_type": "markdown",
   "id": "8a562e09",
   "metadata": {},
   "source": [
    "1.3 Function for Solving non-Linear Algebraic equations"
   ]
  },
  {
   "cell_type": "code",
   "execution_count": 18,
   "id": "a0a1ceb0",
   "metadata": {},
   "outputs": [],
   "source": [
    "def f_u_t(x_u_t, rho_g, mi_g, rho_s, u_t_star, g):\n",
    "    return x_u_t * ((rho_g**2) / (mi_g * (rho_s - rho_g) * g))**(1/3) - u_t_star"
   ]
  },
  {
   "cell_type": "markdown",
   "id": "3156c10a",
   "metadata": {},
   "source": [
    "1.4 Finding solution for u_t using optimize.root"
   ]
  },
  {
   "cell_type": "code",
   "execution_count": 19,
   "id": "ec0d883d",
   "metadata": {},
   "outputs": [],
   "source": [
    "result = optimize.root(f_u_t, 1, args=(rho_g, mi_g, rho_s, u_t_star, g))"
   ]
  },
  {
   "cell_type": "markdown",
   "id": "53a27894",
   "metadata": {},
   "source": [
    "1.5 Extracting and Printing the result"
   ]
  },
  {
   "cell_type": "code",
   "execution_count": 20,
   "id": "adcbada3",
   "metadata": {},
   "outputs": [
    {
     "name": "stdout",
     "output_type": "stream",
     "text": [
      "u_t (m/s) = 1.882979353110989\n"
     ]
    }
   ],
   "source": [
    "u_t = np.float_(result.x)\n",
    "print('u_t (m/s) =', u_t)"
   ]
  }
 ],
 "metadata": {
  "kernelspec": {
   "display_name": "Python 3 (ipykernel)",
   "language": "python",
   "name": "python3"
  },
  "language_info": {
   "codemirror_mode": {
    "name": "ipython",
    "version": 3
   },
   "file_extension": ".py",
   "mimetype": "text/x-python",
   "name": "python",
   "nbconvert_exporter": "python",
   "pygments_lexer": "ipython3",
   "version": "3.11.5"
  }
 },
 "nbformat": 4,
 "nbformat_minor": 5
}
