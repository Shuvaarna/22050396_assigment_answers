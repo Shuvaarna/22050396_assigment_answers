{
 "cells": [
  {
   "cell_type": "code",
   "execution_count": 1,
   "id": "f1216454",
   "metadata": {},
   "outputs": [],
   "source": [
    "def checkout_books(librarian_name,*book_titles,duration='2 weeks',special_conditions = 'None',**details):\n",
    "    print(\"Checkout Processed by: \" + librarian_name)\n",
    "    print(\"Books Checked out:\")\n",
    "    for book_name in book_titles:\n",
    "        print(\"-\" + book_name)\n",
    "    print(\"Checkout Duration: \"+duration)\n",
    "    print(\"Additional Checkout Details:\")\n",
    "    for detail, value in details.items():\n",
    "        print(\"- \" + detail.replace('_', ' ').title() + \": \" + str(value))\n",
    "    print(\"Special Conditions:\")\n",
    "    print(\"-\" + special_conditions)"
   ]
  },
  {
   "cell_type": "code",
   "execution_count": 3,
   "id": "004bb6f2",
   "metadata": {},
   "outputs": [
    {
     "name": "stdout",
     "output_type": "stream",
     "text": [
      "Checkout Processed by: Shuvaarna\n",
      "Books Checked out:\n",
      "-Harry Potter : Chamber of Secrets\n",
      "Checkout Duration: 2 weeks\n",
      "Additional Checkout Details:\n",
      "- Late Fees: RM2\n",
      "- Renewals Allowed: 2\n",
      "- Special Condition: No torn pages\n",
      "Special Conditions:\n",
      "-None\n"
     ]
    }
   ],
   "source": [
    "checkout_books(\"Shuvaarna\",\"Harry Potter : Chamber of Secrets\",late_fees = 'RM2', renewals_allowed = '2',special_condition = \"No torn pages\")"
   ]
  },
  {
   "cell_type": "code",
   "execution_count": null,
   "id": "fc7ed60b",
   "metadata": {},
   "outputs": [],
   "source": []
  }
 ],
 "metadata": {
  "kernelspec": {
   "display_name": "Python 3 (ipykernel)",
   "language": "python",
   "name": "python3"
  },
  "language_info": {
   "codemirror_mode": {
    "name": "ipython",
    "version": 3
   },
   "file_extension": ".py",
   "mimetype": "text/x-python",
   "name": "python",
   "nbconvert_exporter": "python",
   "pygments_lexer": "ipython3",
   "version": "3.11.5"
  }
 },
 "nbformat": 4,
 "nbformat_minor": 5
}
